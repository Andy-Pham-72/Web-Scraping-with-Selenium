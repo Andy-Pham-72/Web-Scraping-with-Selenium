{
 "cells": [
  {
   "cell_type": "markdown",
   "metadata": {},
   "source": [
    "# Web Scraping with Selenium.\n",
    "\n",
    "In the other [repository](https://github.com/Andy-Pham-72/Web-Scraping-with-BeautifulSoup-and-Pandas), I introduced how to use Beautiful Soup to do a variety of quick and simple web-scraping tasks. Beautiful Soup is great, but it has its limitations, because sometimes the content we want to scrape is hidden behind buttons and links that we cannot access directly through a URL. There are also a variety of more sophisticated browsing tasks, like filling in forms and text boxes, that we might have the need to automate. For these purposes it is good to reach for another package: `selenium`\n",
    "\n",
    "[Selenium](https://www.selenium.dev/) is actually much more than a Python package; it's a whole framework for automating web browsers for the purposes of testing web applications, and it's been ported to a variety of programming languages in addition to Python. The main reason you should be aware of this is because, if you ever need to Google something about Selenium, you should include Selenium *and* Python in your search query; otherwise you will probably get a lot of results in Java (and who wants that). Also, if you ever have any questions about Selenium, their [unofficial documentation](https://selenium-python.readthedocs.io/index.html) is always a good place to start."
   ]
  },
  {
   "cell_type": "markdown",
   "metadata": {},
   "source": [
    "---\n",
    "### Install Selenium\n",
    "Open bash and run:\n",
    "```bash\n",
    "pip install selenium\n",
    "```\n",
    "---"
   ]
  },
  {
   "cell_type": "code",
   "execution_count": 1,
   "metadata": {},
   "outputs": [],
   "source": [
    "# Standard imports\n",
    "import pandas as pd\n",
    "\n",
    "# For web scraping\n",
    "from selenium import webdriver\n",
    "from selenium.webdriver.support.ui import WebDriverWait\n",
    "from selenium.webdriver.support import expected_conditions\n",
    "from selenium.webdriver.common.by import By\n",
    "import time"
   ]
  },
  {
   "cell_type": "markdown",
   "metadata": {},
   "source": [
    "### Download driver\n",
    "\n",
    "In order to use Selenium, **you must download a driver to interface with your chosen browser**. Currently, Selenium supports Chrome, Firefox, Safari, and Edge. You can find a link to the browser of your choice [here](https://selenium-python.readthedocs.io/installation.html#drivers). **Be sure to download the driver that matches the version of your chosen browser!**\n",
    "\n",
    "For the purposes of this kickoff, we'll be using Selenium with Chrome. To do this, we must first [download ChromeDriver](https://sites.google.com/a/chromium.org/chromedriver/downloads). For example, if your current Chrome browser version is 89, you have to download Chromedriver version 89.\n",
    "\n",
    "The ChromeDriver file, once unzipped, is a single executable file called `chromedriver`. You may keep this file anywhere on your computer, but it is best to place it in an easy-to-reference location where you know. For example, you save `chromedriver` in the `Download` folder, you have to get the directory path as `/Users/Download/chromedriver` . Thus, we can assign that directory path to a variable:"
   ]
  },
  {
   "cell_type": "code",
   "execution_count": 2,
   "metadata": {},
   "outputs": [],
   "source": [
    "# Save path to chromedriver executable file to variable\n",
    "chrome_path = '/Users/quanganhpham/Downloads/chromedriver' # for example, /Users/Download/chromedriver\n",
    "#Directory path to your chromedriver"
   ]
  },
  {
   "cell_type": "markdown",
   "metadata": {},
   "source": [
    "**Today we will be scraping the product `Solaray, Vitamin D3 + K2, Soy-Free, 125 mcg (5000 IU), 60 VegCaps` information (names / brand / review content) from this [LINK](https://ca.iherb.com/pr/Solaray-Vitamin-D3-K2-Soy-Free-125-mcg-5000-IU-60-VegCaps/70098).**"
   ]
  },
  {
   "cell_type": "code",
   "execution_count": 23,
   "metadata": {},
   "outputs": [],
   "source": [
    "# Initializes the Chrome Driver to access the website\n",
    "driver = webdriver.Chrome(chrome_path)\n",
    "driver1 = webdriver.Chrome(chrome_path)\n",
    "\n",
    "\n",
    "# Assigns url into a variable\n",
    "product_url = \"https://ca.iherb.com/pr/Solaray-Vitamin-D3-K2-Soy-Free-125-mcg-5000-IU-60-VegCaps/70098\"\n",
    "\n",
    "# Initializes the Chrome Driver to access the URL\n",
    "driver.get(product_url)\n"
   ]
  },
  {
   "cell_type": "markdown",
   "metadata": {},
   "source": [
    "First, we can get the product brand in the main product page, by using this syntax: `find_element_by_xpath('.//*[@id=\"brand\"]/a/span/bdi').get_attribute('textContent')` which means it will find the element with the XPATH starting from `id='brand'` to the order of following tags `a` -> `span` -> `bdi` ; then we can use the funtion `get_attribute()` with the `textContent` to parse the product brand which is `Solaray`.\n",
    "\n",
    "(We can also parse the product name from the main page; However, we won't do it because we want to try another function `find_element_by_css_selector` later)\n",
    "\n",
    "<br>\n",
    "<br>\n",
    "<img src = \"https://docs.google.com/uc?export=download&id=1HN4TWV3-vjPNTcoXDlBAWyUumhaqpJ2i\" />\n",
    "\n",
    "<br>\n",
    "<br>\n",
    "\n",
    "\n",
    "We want to scrape the review contents of the product. However, the all the review contents are located in this [View All Reviews](https://ca.iherb.com/r/Solaray-Vitamin-D3-K2-Soy-Free-125-mcg-5000-IU-60-VegCaps/70098) instead of the main product page url. Therefore, we have to get that link by using the Seleninum functions to parse the attribute which contains the url to all the reviews as in the below picture: \n",
    "\n",
    "\n",
    "<br>\n",
    "<br>\n",
    "<img src = \"https://docs.google.com/uc?export=download&id=14gKg45a0oUJ-5rQwFnB-wNGixYDcu8Hv\" />\n",
    "\n",
    "<br>\n",
    "<br>\n",
    "\n",
    "And for the product name, we can find it in the [View All Reviews](https://ca.iherb.com/r/Solaray-Vitamin-D3-K2-Soy-Free-125-mcg-5000-IU-60-VegCaps/70098?p=1&sort=6). This is when this function `find_element_by_css_selector` comes in handy! using the following syntax: `find_element_by_css_selector('[class=\"nav-product-link-text\"] span').text)` which means it can find the element starting with `class=\"nav-product-link-text\"` -> `span` tag -> extract the text from that tag with `.text` as in the below picture:\n",
    "\n",
    "\n",
    "<br>\n",
    "<br>\n",
    "<img src = \"https://docs.google.com/uc?export=download&id=1SaN-X75OfH1zF_R9DQiwqugJ47obgJYt\" />\n",
    "\n",
    "<br>\n",
    "<br>\n"
   ]
  },
  {
   "cell_type": "code",
   "execution_count": 24,
   "metadata": {},
   "outputs": [
    {
     "data": {
      "text/plain": [
       "'https://ca.iherb.com/r/Solaray-Vitamin-D3-K2-Soy-Free-60-VegCaps/70098'"
      ]
     },
     "execution_count": 24,
     "metadata": {},
     "output_type": "execute_result"
    }
   ],
   "source": [
    "# Set a waiting time for the Driver\n",
    "wait = WebDriverWait(driver, 4)\n",
    "\n",
    "# Locate `View All Reviews` link\n",
    "link = wait.until(expected_conditions.presence_of_element_located((By.CSS_SELECTOR,\"span.all-reviews-link > a\")))\n",
    "\n",
    "# Get `View All Reviews` link\n",
    "x = link.get_attribute(\"href\")\n",
    "\n",
    "# Check the link\n",
    "x"
   ]
  },
  {
   "cell_type": "markdown",
   "metadata": {},
   "source": [
    "**Now we have to create 2 for loops:** <br>\n",
    "    - In the first loop, we will get the link of different review pages which we want to scrape.<br>\n",
    "    - In the second loop, we will scrape the data that we need."
   ]
  },
  {
   "cell_type": "code",
   "execution_count": 25,
   "metadata": {},
   "outputs": [
    {
     "name": "stdout",
     "output_type": "stream",
     "text": [
      "https://ca.iherb.com/r/Solaray-Vitamin-D3-K2-Soy-Free-60-VegCaps/70098?&p=1\n",
      "https://ca.iherb.com/r/Solaray-Vitamin-D3-K2-Soy-Free-60-VegCaps/70098?&p=2\n",
      "https://ca.iherb.com/r/Solaray-Vitamin-D3-K2-Soy-Free-60-VegCaps/70098?&p=3\n"
     ]
    }
   ],
   "source": [
    "# Create lists for the dataframe:\n",
    "item_name = []\n",
    "item_brand = []\n",
    "review_contents = []\n",
    "\n",
    "# Scrape maximum 3 pages in the review section\n",
    "max_page_num = 3\n",
    "\n",
    "for page_num in range(1, max_page_num + 1):\n",
    "    \n",
    "    review_url = x + \"?&p=\" + str(page_num)\n",
    "    print(review_url)\n",
    "    \n",
    "    # Initializes the Chrome Driver to access review_url\n",
    "    driver1.get(review_url)\n",
    "    \n",
    "    # Get the all the review elements\n",
    "    review_containers = driver1.find_elements_by_class_name('review-row')\n",
    "    \n",
    "    for container in review_containers:\n",
    "        # Add the review contents\n",
    "        review_contents.append(container.find_element_by_class_name('review-text').text)\n",
    "        # Add the product name\n",
    "        item_name.append(driver1.find_element_by_css_selector('[class=\"nav-product-link-text\"] span').text)\n",
    "        # Add the product brand\n",
    "        item_brand.append(driver.find_element_by_xpath('.//*[@id=\"brand\"]/a/span/bdi').get_attribute('textContent'))\n",
    "    \n",
    "    # Sleep\n",
    "    time.sleep(4) "
   ]
  },
  {
   "cell_type": "code",
   "execution_count": 26,
   "metadata": {},
   "outputs": [
    {
     "data": {
      "text/plain": [
       "(20, 3)"
      ]
     },
     "execution_count": 26,
     "metadata": {},
     "output_type": "execute_result"
    }
   ],
   "source": [
    "# Create a dataframe\n",
    "df_product = pd.DataFrame({'item_brand'   : item_brand, \n",
    "                            'item_name'   : item_name, \n",
    "                        'review_contents' : review_contents }) \n",
    "\n",
    "# Check the dataframe shape\n",
    "df_product.shape"
   ]
  },
  {
   "cell_type": "code",
   "execution_count": 27,
   "metadata": {},
   "outputs": [
    {
     "data": {
      "text/html": [
       "<div>\n",
       "<style scoped>\n",
       "    .dataframe tbody tr th:only-of-type {\n",
       "        vertical-align: middle;\n",
       "    }\n",
       "\n",
       "    .dataframe tbody tr th {\n",
       "        vertical-align: top;\n",
       "    }\n",
       "\n",
       "    .dataframe thead th {\n",
       "        text-align: right;\n",
       "    }\n",
       "</style>\n",
       "<table border=\"1\" class=\"dataframe\">\n",
       "  <thead>\n",
       "    <tr style=\"text-align: right;\">\n",
       "      <th></th>\n",
       "      <th>item_brand</th>\n",
       "      <th>item_name</th>\n",
       "      <th>review_contents</th>\n",
       "    </tr>\n",
       "  </thead>\n",
       "  <tbody>\n",
       "    <tr>\n",
       "      <th>0</th>\n",
       "      <td>Solaray</td>\n",
       "      <td>Vitamin D3 + K2, Soy-Free, 60 VegCaps</td>\n",
       "      <td>Everyone around said that in Russia everyone, ...</td>\n",
       "    </tr>\n",
       "    <tr>\n",
       "      <th>1</th>\n",
       "      <td>Solaray</td>\n",
       "      <td>Vitamin D3 + K2, Soy-Free, 60 VegCaps</td>\n",
       "      <td>So far I can not appreciate the dignity of thi...</td>\n",
       "    </tr>\n",
       "    <tr>\n",
       "      <th>2</th>\n",
       "      <td>Solaray</td>\n",
       "      <td>Vitamin D3 + K2, Soy-Free, 60 VegCaps</td>\n",
       "      <td>I am surprised by the reviews of people who de...</td>\n",
       "    </tr>\n",
       "    <tr>\n",
       "      <th>3</th>\n",
       "      <td>Solaray</td>\n",
       "      <td>Vitamin D3 + K2, Soy-Free, 60 VegCaps</td>\n",
       "      <td>very cool product, I</td>\n",
       "    </tr>\n",
       "    <tr>\n",
       "      <th>4</th>\n",
       "      <td>Solaray</td>\n",
       "      <td>Vitamin D3 + K2, Soy-Free, 60 VegCaps</td>\n",
       "      <td>Very cool product, I recommend it to everyone</td>\n",
       "    </tr>\n",
       "    <tr>\n",
       "      <th>5</th>\n",
       "      <td>Solaray</td>\n",
       "      <td>Vitamin D3 + K2, Soy-Free, 60 VegCaps</td>\n",
       "      <td>cool very cool product recommend it</td>\n",
       "    </tr>\n",
       "    <tr>\n",
       "      <th>6</th>\n",
       "      <td>Solaray</td>\n",
       "      <td>Vitamin D3 + K2, Soy-Free, 60 VegCaps</td>\n",
       "      <td>I recommend</td>\n",
       "    </tr>\n",
       "    <tr>\n",
       "      <th>7</th>\n",
       "      <td>Solaray</td>\n",
       "      <td>Vitamin D3 + K2, Soy-Free, 60 VegCaps</td>\n",
       "      <td>Because of the large cans, they noticed that t...</td>\n",
       "    </tr>\n",
       "    <tr>\n",
       "      <th>8</th>\n",
       "      <td>Solaray</td>\n",
       "      <td>Vitamin D3 + K2, Soy-Free, 60 VegCaps</td>\n",
       "      <td>Very, very cool product, I recommend</td>\n",
       "    </tr>\n",
       "    <tr>\n",
       "      <th>9</th>\n",
       "      <td>Solaray</td>\n",
       "      <td>Vitamin D3 + K2, Soy-Free, 60 VegCaps</td>\n",
       "      <td>After a course of these vitamins, as my nutrit...</td>\n",
       "    </tr>\n",
       "    <tr>\n",
       "      <th>10</th>\n",
       "      <td>Solaray</td>\n",
       "      <td>Vitamin D3 + K2, Soy-Free, 60 VegCaps</td>\n",
       "      <td>I love that this supplement contains vitamin K...</td>\n",
       "    </tr>\n",
       "    <tr>\n",
       "      <th>11</th>\n",
       "      <td>Solaray</td>\n",
       "      <td>Vitamin D3 + K2, Soy-Free, 60 VegCaps</td>\n",
       "      <td>The excellent formula of this drug will provid...</td>\n",
       "    </tr>\n",
       "    <tr>\n",
       "      <th>12</th>\n",
       "      <td>Solaray</td>\n",
       "      <td>Vitamin D3 + K2, Soy-Free, 60 VegCaps</td>\n",
       "      <td>Simply the best vitamin D3 complex! The dosage...</td>\n",
       "    </tr>\n",
       "    <tr>\n",
       "      <th>13</th>\n",
       "      <td>Solaray</td>\n",
       "      <td>Vitamin D3 + K2, Soy-Free, 60 VegCaps</td>\n",
       "      <td>After reading reviews about the lack of vitami...</td>\n",
       "    </tr>\n",
       "    <tr>\n",
       "      <th>14</th>\n",
       "      <td>Solaray</td>\n",
       "      <td>Vitamin D3 + K2, Soy-Free, 60 VegCaps</td>\n",
       "      <td>They drank the whole family. Raises vitamin D ...</td>\n",
       "    </tr>\n",
       "  </tbody>\n",
       "</table>\n",
       "</div>"
      ],
      "text/plain": [
       "   item_brand                              item_name  \\\n",
       "0     Solaray  Vitamin D3 + K2, Soy-Free, 60 VegCaps   \n",
       "1     Solaray  Vitamin D3 + K2, Soy-Free, 60 VegCaps   \n",
       "2     Solaray  Vitamin D3 + K2, Soy-Free, 60 VegCaps   \n",
       "3     Solaray  Vitamin D3 + K2, Soy-Free, 60 VegCaps   \n",
       "4     Solaray  Vitamin D3 + K2, Soy-Free, 60 VegCaps   \n",
       "5     Solaray  Vitamin D3 + K2, Soy-Free, 60 VegCaps   \n",
       "6     Solaray  Vitamin D3 + K2, Soy-Free, 60 VegCaps   \n",
       "7     Solaray  Vitamin D3 + K2, Soy-Free, 60 VegCaps   \n",
       "8     Solaray  Vitamin D3 + K2, Soy-Free, 60 VegCaps   \n",
       "9     Solaray  Vitamin D3 + K2, Soy-Free, 60 VegCaps   \n",
       "10    Solaray  Vitamin D3 + K2, Soy-Free, 60 VegCaps   \n",
       "11    Solaray  Vitamin D3 + K2, Soy-Free, 60 VegCaps   \n",
       "12    Solaray  Vitamin D3 + K2, Soy-Free, 60 VegCaps   \n",
       "13    Solaray  Vitamin D3 + K2, Soy-Free, 60 VegCaps   \n",
       "14    Solaray  Vitamin D3 + K2, Soy-Free, 60 VegCaps   \n",
       "\n",
       "                                      review_contents  \n",
       "0   Everyone around said that in Russia everyone, ...  \n",
       "1   So far I can not appreciate the dignity of thi...  \n",
       "2   I am surprised by the reviews of people who de...  \n",
       "3                                very cool product, I  \n",
       "4       Very cool product, I recommend it to everyone  \n",
       "5                 cool very cool product recommend it  \n",
       "6                                         I recommend  \n",
       "7   Because of the large cans, they noticed that t...  \n",
       "8                Very, very cool product, I recommend  \n",
       "9   After a course of these vitamins, as my nutrit...  \n",
       "10  I love that this supplement contains vitamin K...  \n",
       "11  The excellent formula of this drug will provid...  \n",
       "12  Simply the best vitamin D3 complex! The dosage...  \n",
       "13  After reading reviews about the lack of vitami...  \n",
       "14  They drank the whole family. Raises vitamin D ...  "
      ]
     },
     "execution_count": 27,
     "metadata": {},
     "output_type": "execute_result"
    }
   ],
   "source": [
    "# Check the dataframe\n",
    "df_product.head(15)"
   ]
  },
  {
   "cell_type": "code",
   "execution_count": 8,
   "metadata": {},
   "outputs": [],
   "source": [
    "# Let make a CSV file from the dataframe\n",
    "df_product.to_csv ('product_review.csv', index = False, header=True) \n"
   ]
  },
  {
   "cell_type": "markdown",
   "metadata": {},
   "source": [
    "Lastly, you can also use Selenium to close your browser. (Or you just need to simply close the browser.)"
   ]
  },
  {
   "cell_type": "code",
   "execution_count": 28,
   "metadata": {},
   "outputs": [],
   "source": [
    "driver.quit()\n",
    "driver1.quit()"
   ]
  },
  {
   "cell_type": "markdown",
   "metadata": {},
   "source": [
    "**END**"
   ]
  }
 ],
 "metadata": {
  "kernelspec": {
   "display_name": "Python 3",
   "language": "python",
   "name": "python3"
  },
  "language_info": {
   "codemirror_mode": {
    "name": "ipython",
    "version": 3
   },
   "file_extension": ".py",
   "mimetype": "text/x-python",
   "name": "python",
   "nbconvert_exporter": "python",
   "pygments_lexer": "ipython3",
   "version": "3.8.5"
  }
 },
 "nbformat": 4,
 "nbformat_minor": 4
}
